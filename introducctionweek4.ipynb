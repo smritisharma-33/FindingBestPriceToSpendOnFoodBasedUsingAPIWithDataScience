{
 "cells": [
  {
   "cell_type": "markdown",
   "metadata": {},
   "source": [
    "## Introduction \n",
    "The aim of the project is to identify venues in Mumbai, India based on their rating and average prices. In this notebook, we will identify various venues in the city of Mumbai, India, using Foursquare API and Zomato API, to help visitors select the restaurants that suit them the best.\n",
    "Whenever a user is visiting a city they start looking for places to visit during their stay. They primarily look for places based on the venue ratings across all venues and the average prices such that the locations fits in their budget.\n",
    "Here, we'll identify places that are fit for various individuals based on the information collected from the two APIs and Data Science. Once we have the plot with the venues, any company can launch an application using the same data and suggest users such information."
   ]
  },
  {
   "cell_type": "markdown",
   "metadata": {},
   "source": [
    "## problem\n",
    "people think that mumbai is very expensive and we cannot go in posh area of mumbai and enjoy thier people worry about money but thier are very good options in mumbai main are with offordabel venue. but no one knows abot them   \n",
    "so i decided to aggregate the data and find that what is the actual amoun we need to spend to have a nice date of  dinner with family.  \n"
   ]
  },
  {
   "cell_type": "markdown",
   "metadata": {},
   "source": [
    "## how to use the data"
   ]
  },
  {
   "cell_type": "markdown",
   "metadata": {},
   "source": [
    "with the help of foursquare and zomat api we can get the category of hotels and prising of hottel and we can use both data the find underlying idea of which venues are good for normal peoples.  \n",
    "we can find the cost and location and the expected qualtiy of venue in a region"
   ]
  },
  {
   "cell_type": "code",
   "execution_count": null,
   "metadata": {},
   "outputs": [],
   "source": []
  }
 ],
 "metadata": {
  "kernelspec": {
   "display_name": "Python",
   "language": "python",
   "name": "conda-env-python-py"
  },
  "language_info": {
   "codemirror_mode": {
    "name": "ipython",
    "version": 3
   },
   "file_extension": ".py",
   "mimetype": "text/x-python",
   "name": "python",
   "nbconvert_exporter": "python",
   "pygments_lexer": "ipython3",
   "version": "3.6.10"
  }
 },
 "nbformat": 4,
 "nbformat_minor": 4
}
 