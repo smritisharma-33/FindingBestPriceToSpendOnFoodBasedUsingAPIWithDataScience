{
 "cells": [
  {
   "cell_type": "markdown",
   "metadata": {},
   "source": [
    "# Report  \n",
    "\n",
    "\n",
    "### In the charts we can clearly see that people can enjoy venue in mumbai at least 1000 rs per. person for a good date or family dinner\n",
    "###  we found out that mumbai have restarant for all people not so rich and rich\n",
    "### we discovered that if one wants to get an excelent venue for a special occasion in mumbai one must be willing to spend 2000 rs on avg for a venue\n",
    "\n"
   ]
  },
  {
   "cell_type": "markdown",
   "metadata": {},
   "source": [
    "\n",
    "## Results and Discussion "
   ]
  },
  {
   "cell_type": "markdown",
   "metadata": {},
   "source": [
    "Based on our analysis above, we can draw a number of conclusions that will be useful to aid any visitor visiting the city of mumbai, India."
   ]
  },
  {
   "cell_type": "markdown",
   "metadata": {},
   "source": [
    "After collecting data from the Foursquare and Zomato APIs, we got a list of 120 different venues. However, not all venues from the two APIs were identical. Hence, we had to inspect their latitude and longitude values as well as names to combine them and remove all the outliers. This resulted in a total venue count of 70."
   ]
  },
  {
   "cell_type": "markdown",
   "metadata": {},
   "source": [
    "We identified that from the total set of venues, majority of them were fast food restaurants and Indian Restaurants. A visitor who loves fastfood/Indian Restaurants would surely benefit from coming to Mumbai."
   ]
  },
  {
   "cell_type": "markdown",
   "metadata": {},
   "source": [
    "## Conclusion \n",
    "The purpose of this project was to explore the places that a person visiting Mumbai could visit. The venues have been identified using Foursquare and Zomato API and have been plotted on the map. The map reveals that there are  major areas a person can visit: Sector. Based on the visitor's venue rating and price requirements, he/she can choose amongst the three places."
   ]
  },
  {
   "cell_type": "code",
   "execution_count": null,
   "metadata": {},
   "outputs": [],
   "source": []
  }
 ],
 "metadata": {
  "kernelspec": {
   "display_name": "Python",
   "language": "python",
   "name": "conda-env-python-py"
  },
  "language_info": {
   "codemirror_mode": {
    "name": "ipython",
    "version": 3
   },
   "file_extension": ".py",
   "mimetype": "text/x-python",
   "name": "python",
   "nbconvert_exporter": "python",
   "pygments_lexer": "ipython3",
   "version": "3.6.10"
  }
 },
 "nbformat": 4,
 "nbformat_minor": 4
}
